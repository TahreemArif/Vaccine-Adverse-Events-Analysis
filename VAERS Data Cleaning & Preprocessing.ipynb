{
 "cells": [
  {
   "cell_type": "code",
   "execution_count": null,
   "metadata": {
    "execution": {
     "iopub.execute_input": "2024-11-25T02:09:16.041455Z",
     "iopub.status.busy": "2024-11-25T02:09:16.040828Z",
     "iopub.status.idle": "2024-11-25T02:09:16.57821Z",
     "shell.execute_reply": "2024-11-25T02:09:16.577026Z",
     "shell.execute_reply.started": "2024-11-25T02:09:16.041357Z"
    },
    "id": "pZ2BScKIJEz4"
   },
   "outputs": [],
   "source": [
    "import re\n",
    "import os\n",
    "import json\n",
    "import pandas as pd\n",
    "import numpy as np\n",
    "\n",
    "from ast import literal_eval\n",
    "from sklearn.model_selection import train_test_split"
   ]
  },
  {
   "cell_type": "code",
   "execution_count": null,
   "metadata": {
    "colab": {
     "base_uri": "https://localhost:8080/"
    },
    "id": "9hLoRgBaJRX0",
    "outputId": "39d76d07-57d2-452f-bd0b-9fed5506cb23"
   },
   "outputs": [
    {
     "name": "stdout",
     "output_type": "stream",
     "text": [
      "Drive already mounted at /content/drive; to attempt to forcibly remount, call drive.mount(\"/content/drive\", force_remount=True).\n"
     ]
    }
   ],
   "source": [
    "from google.colab import drive\n",
    "drive.mount('/content/drive')"
   ]
  },
  {
   "cell_type": "code",
   "execution_count": null,
   "metadata": {
    "execution": {
     "iopub.execute_input": "2024-11-25T02:09:25.037549Z",
     "iopub.status.busy": "2024-11-25T02:09:25.037079Z",
     "iopub.status.idle": "2024-11-25T02:09:25.042782Z",
     "shell.execute_reply": "2024-11-25T02:09:25.041593Z",
     "shell.execute_reply.started": "2024-11-25T02:09:25.037504Z"
    },
    "id": "Tl8Eajo2JEz4"
   },
   "outputs": [],
   "source": [
    "base_dir = '/content/drive/MyDrive/NLP/vaers_analysis'\n",
    "data_dir = os.path.join(base_dir, 'data')"
   ]
  },
  {
   "cell_type": "code",
   "execution_count": null,
   "metadata": {
    "execution": {
     "iopub.execute_input": "2024-11-25T02:09:25.044612Z",
     "iopub.status.busy": "2024-11-25T02:09:25.044233Z",
     "iopub.status.idle": "2024-11-25T02:09:25.069142Z",
     "shell.execute_reply": "2024-11-25T02:09:25.067553Z",
     "shell.execute_reply.started": "2024-11-25T02:09:25.044577Z"
    },
    "id": "EDz1G2wFJEz4"
   },
   "outputs": [],
   "source": [
    "## Its been noticed that there are a few values in the symptoms\n",
    "## table which are not actual symptoms, so remove the records with\n",
    "## only such values\n",
    "outlier_symptoms = [\n",
    "    'Accidental exposure to product',\n",
    "    'Accidental overdose',\n",
    "    'Accidental underdose',\n",
    "    'Adverse event',\n",
    "    'Adverse eventDevice connection issue',\n",
    "    'Circumstance or information capable of leading to medication error',\n",
    "    'Device adhesion issue',\n",
    "    'Device connection issue',\n",
    "    'Device defective',\n",
    "    'Device delivery system issue',\n",
    "    'Device issue',\n",
    "    'Device leakage',\n",
    "    'Device malfunction',\n",
    "    'Device material issue',\n",
    "    'Device temperature issue',\n",
    "    'Device use issue',\n",
    "    'Discontinued product administered',\n",
    "    'Expired device used',\n",
    "    'Expired product administered',\n",
    "    'Extra dose administered',\n",
    "    'Inappropriate schedule of product administration',\n",
    "    'Incomplete course of vaccination',\n",
    "    'Incorrect dose administered',\n",
    "    'Incorrect product administration duration',\n",
    "    'Incorrect product formulation administered',\n",
    "    'Incorrect route of product administration',\n",
    "    'Injury associated with device',\n",
    "    'Intentional product use issue',\n",
    "    'Interchange of vaccine products',\n",
    "    'Investigation',\n",
    "    'Laboratory test',\n",
    "    'Limb discomfort',\n",
    "    'Liquid product physical issue',\n",
    "    'Manufacturing product shipping issue',\n",
    "    'Medication error',\n",
    "    'Needle Issue',\n",
    "    'Needle issue',\n",
    "    'No adverse event',\n",
    "    'Off label use',\n",
    "    'Out of specification product use',\n",
    "    'Overdose',\n",
    "    'Patient uncooperative',\n",
    "    'Physical examination',\n",
    "    'Poor quality product administered',\n",
    "    'Product Storage Error',\n",
    "    'Product Storage error',\n",
    "    'Product Temperature Excursion Issue',\n",
    "    'Product administered at inappropriate site',\n",
    "    'Product administered to patient of inappropriate age',\n",
    "    \"Product administered to patient of inappropriate age' (if applicable)\",\n",
    "    'Product administration error',\n",
    "    'Product administration interrupted',\n",
    "    'Product appearance confusion',\n",
    "    'Product availability issue',\n",
    "    'Product blister packaging issue',\n",
    "    'Product closure issue',\n",
    "    'Product colour issue',\n",
    "    'Product confusion',\n",
    "    'Product container issue',\n",
    "    'Product container seal issue',\n",
    "    'Product contamination',\n",
    "    'Product contamination physical',\n",
    "    'Product dispensing error',\n",
    "    'Product dispensing issue',\n",
    "    'Product dose omission in error',\n",
    "    'Product dose omission issue',\n",
    "    'Product expiration date issue',\n",
    "    'Product label confusion',\n",
    "    'Product label issue',\n",
    "    'Product leakage',\n",
    "    'Product lot number issue',\n",
    "    'Product measured potency issue',\n",
    "    'Product monitoring error',\n",
    "    'Product packaging confusion',\n",
    "    'Product packaging issue',\n",
    "    'Product packaging quantity issue',\n",
    "    'Product physical issue',\n",
    "    'Product preparation error',\n",
    "    'Product preparation issue',\n",
    "    'Product quality issue',\n",
    "    'Product storage error',\n",
    "    'Product substitution issue',\n",
    "    'Product temperature excursion issue',\n",
    "    'Product use issue',\n",
    "    'Recalled product administered',\n",
    "    'Road traffic accident',\n",
    "    'SARS-CoV-2 test',\n",
    "    'Suspected product contamination',\n",
    "    'Suspected product quality issue',\n",
    "    'Syringe issue',\n",
    "    'Transcription medication error',\n",
    "    'Underdose',\n",
    "    'Unevaluable event',\n",
    "    'Urine analysis',\n",
    "    'Vaccination error',\n",
    "    'Wrong dosage formulation',\n",
    "    'Wrong patient received product',\n",
    "    'Wrong product administered',\n",
    "    'Wrong technique in device usage process',\n",
    "    'Wrong technique in product usage process'\n",
    "\n",
    "    ## Newly Added Outlier Symptoms\n",
    "    'Abdominal X-ray',\n",
    "    'Allergy test negative',\n",
    "    'Antibody test',\n",
    "    'Antibody test negative',\n",
    "    'Bacterial test negative',\n",
    "    'Blood folate normal',\n",
    "    'Blood potassium normal',\n",
    "    'Blood pressure measurement',\n",
    "    'Blood pressure normal',\n",
    "    'Blood test',\n",
    "    'Blood test normal',\n",
    "    'Breast feeding',\n",
    "    'Cardiac monitoring',\n",
    "    'Cardiac stress test',\n",
    "    'Chest X-ray',\n",
    "    'Chest X-ray normal',\n",
    "    'Coronavirus test',\n",
    "    'Fear of injection',\n",
    "    'Full blood count normal',\n",
    "    'HIV test negative',\n",
    "    'Hip fracture',\n",
    "    'Hip surgery',\n",
    "    'Immunology test normal',\n",
    "    'Influenza B virus test',\n",
    "    'Laboratory test normal',\n",
    "    'Life support',\n",
    "    'Magnetic resonance imaging normal',\n",
    "    'Pathology test',\n",
    "    'Pregnancy',\n",
    "    'Renal function test normal',\n",
    "    'SARS-CoV-1 test',\n",
    "    'SARS-CoV-2 antibody test',\n",
    "    'SARS-CoV-2 antibody test negative',\n",
    "    'SARS-CoV-2 test negative',\n",
    "    'Scan',\n",
    "    'Skin test',\n",
    "    'Spinal X-ray',\n",
    "    'Stool analysis',\n",
    "    'Streptococcus test',\n",
    "    'Streptococcus test negative',\n",
    "    'Ultrasound breast normal',\n",
    "    'Ultrasound scan',\n",
    "    'Vaccination failure',\n",
    "    'Viral test',\n",
    "    'Vitamin B12 normal',\n",
    "    'Vitamin D',\n",
    "    'Weight',\n",
    "    'X-ray',\n",
    "    'X-ray limb normal',\n",
    "    'X-ray normal',\n",
    "    'X-ray of pelvis and hip'\n",
    "]"
   ]
  },
  {
   "cell_type": "code",
   "execution_count": null,
   "metadata": {
    "execution": {
     "iopub.execute_input": "2024-11-25T02:09:25.071588Z",
     "iopub.status.busy": "2024-11-25T02:09:25.07108Z",
     "iopub.status.idle": "2024-11-25T02:09:41.276066Z",
     "shell.execute_reply": "2024-11-25T02:09:41.274795Z",
     "shell.execute_reply.started": "2024-11-25T02:09:25.071535Z"
    },
    "id": "7ok1hYJ8JEz5"
   },
   "outputs": [],
   "source": [
    "vaers_data = pd.read_csv(os.path.join(data_dir, 'labelled_vaers_data.csv'))\n",
    "vaers_data['symptoms'] = vaers_data['symptoms'].apply(literal_eval)\n",
    "vaers_data['ordered_symptoms'] = vaers_data['ordered_symptoms'].apply(literal_eval)"
   ]
  },
  {
   "cell_type": "code",
   "execution_count": null,
   "metadata": {
    "execution": {
     "iopub.execute_input": "2024-11-25T02:09:41.278001Z",
     "iopub.status.busy": "2024-11-25T02:09:41.277631Z",
     "iopub.status.idle": "2024-11-25T02:09:41.287071Z",
     "shell.execute_reply": "2024-11-25T02:09:41.285157Z",
     "shell.execute_reply.started": "2024-11-25T02:09:41.277965Z"
    },
    "id": "p_iLU6_YJEz5"
   },
   "outputs": [],
   "source": [
    "def clean_symptoms(symptoms):\n",
    "    \"\"\"\n",
    "    Cleans a list of symptom strings by removing unwanted characters, extra information,\n",
    "    and empty strings, ensuring each symptom is well-formatted and valid.\n",
    "\n",
    "    Args:\n",
    "        symptoms (list of str): A list of symptom strings to be cleaned.\n",
    "\n",
    "    Returns:\n",
    "        list of str: A cleaned list of symptom strings.\n",
    "\n",
    "    Cleaning Steps:\n",
    "        1. Removes any '**' characters from each symptom string.\n",
    "        2. Strips leading and trailing spaces, single quotes ('), and double quotes (\").\n",
    "        3. Removes any extra information enclosed in parentheses (e.g., \"(example)\").\n",
    "        4. Removes unwanted special quotes like ‘ and ’ from the strings.\n",
    "        5. Excludes any empty strings resulting from the cleaning process.\n",
    "    \"\"\"\n",
    "\n",
    "    symptoms = [sym.replace('**', '') for sym in symptoms]  #remove trailing **\n",
    "    symptoms = [sym.strip().strip(\"'\\\"\") for sym in symptoms]   #remove trailing spaces\n",
    "    symptoms = [re.sub(r'\\(.*?\\)', '', sym).strip() for sym in symptoms] #remove extra information introduced by LLMs\n",
    "    symptoms = [sym.strip('‘’\"') for sym in symptoms if sym.strip()]  # Remove unwanted quotes and preserve valid text\n",
    "    symptoms = [sym for sym in symptoms if sym != ''] #remove empty strings\n",
    "\n",
    "    return symptoms"
   ]
  },
  {
   "cell_type": "code",
   "execution_count": null,
   "metadata": {
    "execution": {
     "iopub.execute_input": "2024-11-25T02:29:05.692833Z",
     "iopub.status.busy": "2024-11-25T02:29:05.692251Z",
     "iopub.status.idle": "2024-11-25T02:29:18.346155Z",
     "shell.execute_reply": "2024-11-25T02:29:18.344889Z",
     "shell.execute_reply.started": "2024-11-25T02:29:05.692789Z"
    },
    "id": "qoY0ViJ3JEz5"
   },
   "outputs": [],
   "source": [
    "## Clean the ordered_symptoms colum\n",
    "vaers_data['ordered_symptoms'] = vaers_data['ordered_symptoms'].apply(clean_symptoms)\n",
    "\n",
    "## Keep the records with exactly same Ordered Symptoms and Unordered Symptoms\n",
    "vaers_data = vaers_data[vaers_data['symptoms'].apply(set) == vaers_data['ordered_symptoms'].apply(set)]\n",
    "\n",
    "## TODO: Need to identify the actual symptoms from symptom_text\n",
    "## Keep the records with actuals symptoms after removing outlier symptoms\n",
    "vaers_data = vaers_data[~vaers_data['ordered_symptoms'].apply(lambda x: set(x).issubset(set(outlier_symptoms)))]\n",
    "\n",
    "## Remove the outlier symptoms from symptoms and ordered_symptoms\n",
    "vaers_data['symptoms'] = vaers_data['symptoms'].apply(\n",
    "    lambda symptoms: [sym for sym in symptoms if sym not in outlier_symptoms]\n",
    ")\n",
    "\n",
    "vaers_data['ordered_symptoms'] = vaers_data['ordered_symptoms'].apply(\n",
    "    lambda symptoms: [sym for sym in symptoms if sym not in outlier_symptoms]\n",
    ")\n",
    "\n",
    "## Drop the Null Records\n",
    "vaers_data.dropna(inplace=True)"
   ]
  },
  {
   "cell_type": "code",
   "execution_count": null,
   "metadata": {
    "execution": {
     "iopub.execute_input": "2024-11-25T02:40:16.05018Z",
     "iopub.status.busy": "2024-11-25T02:40:16.049325Z",
     "iopub.status.idle": "2024-11-25T02:40:16.363236Z",
     "shell.execute_reply": "2024-11-25T02:40:16.361948Z",
     "shell.execute_reply.started": "2024-11-25T02:40:16.050135Z"
    },
    "id": "a0U7xrv_JEz5"
   },
   "outputs": [],
   "source": [
    "## Since we want to find the temporal/associative relationship between\n",
    "## symptoms, we will consider records with more than 1 reported symptoms\n",
    "vaers_data = vaers_data[vaers_data['ordered_symptoms'].apply(len) > 1]\n",
    "\n",
    "## There are a few records with more than 20 symptoms, we consider\n",
    "## such records as outliers\n",
    "vaers_data = vaers_data[vaers_data['ordered_symptoms'].apply(len) < 21]"
   ]
  },
  {
   "cell_type": "code",
   "execution_count": null,
   "metadata": {
    "execution": {
     "iopub.execute_input": "2024-11-25T02:40:24.294953Z",
     "iopub.status.busy": "2024-11-25T02:40:24.294382Z",
     "iopub.status.idle": "2024-11-25T02:40:26.887102Z",
     "shell.execute_reply": "2024-11-25T02:40:26.88572Z",
     "shell.execute_reply.started": "2024-11-25T02:40:24.294907Z"
    },
    "id": "TBIAO771JEz5"
   },
   "outputs": [],
   "source": [
    "vaers_data['report_length'] = vaers_data['symptom_text'].apply(lambda text: len([word for word in text.split(' ')]))\n",
    "vaers_data['num_symptoms'] = vaers_data['ordered_symptoms'].apply(len)"
   ]
  },
  {
   "cell_type": "code",
   "execution_count": null,
   "metadata": {
    "execution": {
     "iopub.execute_input": "2024-11-25T02:28:43.43836Z",
     "iopub.status.busy": "2024-11-25T02:28:43.437751Z",
     "iopub.status.idle": "2024-11-25T02:28:43.622063Z",
     "shell.execute_reply": "2024-11-25T02:28:43.620575Z",
     "shell.execute_reply.started": "2024-11-25T02:28:43.438311Z"
    },
    "id": "3rLKVV7TJEz5"
   },
   "outputs": [],
   "source": [
    "## Let's use the records with more than 50 Words to Fine Tune the pre-trained transformer based models\n",
    "ft_data = vaers_data[vaers_data['report_length'] > 50].sample(n=10500, random_state=42)\n",
    "train, test = train_test_split(ft_data, test_size=500, random_state=42)"
   ]
  },
  {
   "cell_type": "code",
   "execution_count": null,
   "metadata": {
    "id": "F14UkWlDbfAG"
   },
   "outputs": [],
   "source": [
    "vaers_data.to_csv(os.path.join(data_dir, 'vaers_data.csv'), index=False)\n",
    "train.to_csv(os.path.join(data_dir, 'train_vaers_data.csv'), index=False)\n",
    "test.to_csv(os.path.join(data_dir, 'test_vaers_data.csv'), index=False)"
   ]
  }
 ],
 "metadata": {
  "colab": {
   "machine_shape": "hm",
   "provenance": []
  },
  "kaggle": {
   "accelerator": "none",
   "dataSources": [],
   "dockerImageVersionId": 30786,
   "isGpuEnabled": false,
   "isInternetEnabled": true,
   "language": "python",
   "sourceType": "notebook"
  },
  "kernelspec": {
   "display_name": "Python 3 (ipykernel)",
   "language": "python",
   "name": "python3"
  },
  "language_info": {
   "codemirror_mode": {
    "name": "ipython",
    "version": 3
   },
   "file_extension": ".py",
   "mimetype": "text/x-python",
   "name": "python",
   "nbconvert_exporter": "python",
   "pygments_lexer": "ipython3",
   "version": "3.11.4"
  }
 },
 "nbformat": 4,
 "nbformat_minor": 1
}
