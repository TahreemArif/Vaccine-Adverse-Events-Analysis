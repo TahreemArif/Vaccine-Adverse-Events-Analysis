{
  "metadata": {
    "kernelspec": {
      "language": "python",
      "display_name": "Python 3",
      "name": "python3"
    },
    "language_info": {
      "name": "python",
      "version": "3.10.14",
      "mimetype": "text/x-python",
      "codemirror_mode": {
        "name": "ipython",
        "version": 3
      },
      "pygments_lexer": "ipython3",
      "nbconvert_exporter": "python",
      "file_extension": ".py"
    },
    "kaggle": {
      "accelerator": "none",
      "dataSources": [],
      "dockerImageVersionId": 30786,
      "isInternetEnabled": true,
      "language": "python",
      "sourceType": "notebook",
      "isGpuEnabled": false
    },
    "colab": {
      "provenance": []
    }
  },
  "nbformat_minor": 0,
  "nbformat": 4,
  "cells": [
    {
      "cell_type": "code",
      "source": [
        "from google.colab import drive\n",
        "drive.mount('/content/drive')"
      ],
      "metadata": {
        "colab": {
          "base_uri": "https://localhost:8080/"
        },
        "id": "XhD3J-K-fbKq",
        "outputId": "743b5642-7d1f-4642-e68c-aa0f07df2802"
      },
      "execution_count": null,
      "outputs": [
        {
          "output_type": "stream",
          "name": "stdout",
          "text": [
            "Mounted at /content/drive\n"
          ]
        }
      ]
    },
    {
      "cell_type": "code",
      "source": [
        "import re\n",
        "import os\n",
        "import json\n",
        "import pandas as pd\n",
        "import numpy as np\n",
        "\n",
        "from ast import literal_eval"
      ],
      "metadata": {
        "trusted": true,
        "execution": {
          "iopub.status.busy": "2024-11-26T06:04:37.878543Z",
          "iopub.execute_input": "2024-11-26T06:04:37.879054Z",
          "iopub.status.idle": "2024-11-26T06:04:37.885397Z",
          "shell.execute_reply.started": "2024-11-26T06:04:37.878993Z",
          "shell.execute_reply": "2024-11-26T06:04:37.884176Z"
        },
        "id": "jMrOYjOAerLn"
      },
      "outputs": [],
      "execution_count": null
    },
    {
      "cell_type": "code",
      "source": [
        "base_dir = '/content/drive/MyDrive/NLP/vaers_analysis'\n",
        "data_dir = os.path.join(base_dir, 'data')"
      ],
      "metadata": {
        "trusted": true,
        "execution": {
          "iopub.status.busy": "2024-11-26T06:04:43.012469Z",
          "iopub.execute_input": "2024-11-26T06:04:43.01301Z",
          "iopub.status.idle": "2024-11-26T06:04:43.019021Z",
          "shell.execute_reply.started": "2024-11-26T06:04:43.012957Z",
          "shell.execute_reply": "2024-11-26T06:04:43.017869Z"
        },
        "id": "aQfcvhSserLo"
      },
      "outputs": [],
      "execution_count": null
    },
    {
      "cell_type": "code",
      "source": [
        "vaers_data = pd.read_csv(os.path.join(data_dir, 'test_vaers_data.csv'))\n",
        "vaers_data['symptoms'] = vaers_data['symptoms'].apply(literal_eval)\n",
        "vaers_data['ordered_symptoms'] = vaers_data['ordered_symptoms'].apply(literal_eval)\n",
        "vaers_data.head()"
      ],
      "metadata": {
        "trusted": true,
        "execution": {
          "iopub.status.busy": "2024-11-26T06:04:43.020511Z",
          "iopub.execute_input": "2024-11-26T06:04:43.020897Z",
          "iopub.status.idle": "2024-11-26T06:04:43.65278Z",
          "shell.execute_reply.started": "2024-11-26T06:04:43.020862Z",
          "shell.execute_reply": "2024-11-26T06:04:43.651665Z"
        },
        "id": "rX5bxAOjerLo",
        "colab": {
          "base_uri": "https://localhost:8080/",
          "height": 292
        },
        "outputId": "0944cd9c-9493-4c5d-c334-0d8f55fd3351"
      },
      "outputs": [
        {
          "output_type": "execute_result",
          "data": {
            "text/plain": [
              "   vaers_id  year         vax_type vax_manu  \\\n",
              "0   1344132  2021  COVID19          MODERNA   \n",
              "1   1842147  2021  COVID19          MODERNA   \n",
              "2   1165207  2021  COVID19          MODERNA   \n",
              "3   1618374  2021  COVID19          MODERNA   \n",
              "4   2460242  2022  COVID19          MODERNA   \n",
              "\n",
              "                                        symptom_text  \\\n",
              "0  A few days after my vaccine, I noticed under t...   \n",
              "1  Period schedule on and off the chart; Increase...   \n",
              "2  within 24 hours of receiving my 2nd dose, I fi...   \n",
              "3  Side effects seem to have cleared up by the 17...   \n",
              "4  I received my first Moderna vaccine on one/14/...   \n",
              "\n",
              "                                            symptoms  \\\n",
              "0                                [Blister, Erythema]   \n",
              "1  [Biopsy, Heavy menstrual bleeding, Menstrual d...   \n",
              "2  [Chills, Dry eye, Eye pain, Fatigue, Headache,...   \n",
              "3               [Headache, Vaccination complication]   \n",
              "4  [Amenorrhoea, Arthralgia, Carbohydrate antigen...   \n",
              "\n",
              "                                    ordered_symptoms  report_length  \\\n",
              "0                                [Blister, Erythema]             93   \n",
              "1  [Menstrual disorder, Heavy menstrual bleeding,...            259   \n",
              "2  [Pyrexia, Chills, Headache, Myalgia, Neuralgia...            110   \n",
              "3               [Vaccination complication, Headache]            241   \n",
              "4  [Lymphadenopathy, Arthralgia, Pain in extremit...            162   \n",
              "\n",
              "   num_symptoms  \n",
              "0             2  \n",
              "1             4  \n",
              "2             9  \n",
              "3             2  \n",
              "4            12  "
            ],
            "text/html": [
              "\n",
              "  <div id=\"df-36b4b6e4-6451-4308-bda9-8a8324cc6ec3\" class=\"colab-df-container\">\n",
              "    <div>\n",
              "<style scoped>\n",
              "    .dataframe tbody tr th:only-of-type {\n",
              "        vertical-align: middle;\n",
              "    }\n",
              "\n",
              "    .dataframe tbody tr th {\n",
              "        vertical-align: top;\n",
              "    }\n",
              "\n",
              "    .dataframe thead th {\n",
              "        text-align: right;\n",
              "    }\n",
              "</style>\n",
              "<table border=\"1\" class=\"dataframe\">\n",
              "  <thead>\n",
              "    <tr style=\"text-align: right;\">\n",
              "      <th></th>\n",
              "      <th>vaers_id</th>\n",
              "      <th>year</th>\n",
              "      <th>vax_type</th>\n",
              "      <th>vax_manu</th>\n",
              "      <th>symptom_text</th>\n",
              "      <th>symptoms</th>\n",
              "      <th>ordered_symptoms</th>\n",
              "      <th>report_length</th>\n",
              "      <th>num_symptoms</th>\n",
              "    </tr>\n",
              "  </thead>\n",
              "  <tbody>\n",
              "    <tr>\n",
              "      <th>0</th>\n",
              "      <td>1344132</td>\n",
              "      <td>2021</td>\n",
              "      <td>COVID19</td>\n",
              "      <td>MODERNA</td>\n",
              "      <td>A few days after my vaccine, I noticed under t...</td>\n",
              "      <td>[Blister, Erythema]</td>\n",
              "      <td>[Blister, Erythema]</td>\n",
              "      <td>93</td>\n",
              "      <td>2</td>\n",
              "    </tr>\n",
              "    <tr>\n",
              "      <th>1</th>\n",
              "      <td>1842147</td>\n",
              "      <td>2021</td>\n",
              "      <td>COVID19</td>\n",
              "      <td>MODERNA</td>\n",
              "      <td>Period schedule on and off the chart; Increase...</td>\n",
              "      <td>[Biopsy, Heavy menstrual bleeding, Menstrual d...</td>\n",
              "      <td>[Menstrual disorder, Heavy menstrual bleeding,...</td>\n",
              "      <td>259</td>\n",
              "      <td>4</td>\n",
              "    </tr>\n",
              "    <tr>\n",
              "      <th>2</th>\n",
              "      <td>1165207</td>\n",
              "      <td>2021</td>\n",
              "      <td>COVID19</td>\n",
              "      <td>MODERNA</td>\n",
              "      <td>within 24 hours of receiving my 2nd dose, I fi...</td>\n",
              "      <td>[Chills, Dry eye, Eye pain, Fatigue, Headache,...</td>\n",
              "      <td>[Pyrexia, Chills, Headache, Myalgia, Neuralgia...</td>\n",
              "      <td>110</td>\n",
              "      <td>9</td>\n",
              "    </tr>\n",
              "    <tr>\n",
              "      <th>3</th>\n",
              "      <td>1618374</td>\n",
              "      <td>2021</td>\n",
              "      <td>COVID19</td>\n",
              "      <td>MODERNA</td>\n",
              "      <td>Side effects seem to have cleared up by the 17...</td>\n",
              "      <td>[Headache, Vaccination complication]</td>\n",
              "      <td>[Vaccination complication, Headache]</td>\n",
              "      <td>241</td>\n",
              "      <td>2</td>\n",
              "    </tr>\n",
              "    <tr>\n",
              "      <th>4</th>\n",
              "      <td>2460242</td>\n",
              "      <td>2022</td>\n",
              "      <td>COVID19</td>\n",
              "      <td>MODERNA</td>\n",
              "      <td>I received my first Moderna vaccine on one/14/...</td>\n",
              "      <td>[Amenorrhoea, Arthralgia, Carbohydrate antigen...</td>\n",
              "      <td>[Lymphadenopathy, Arthralgia, Pain in extremit...</td>\n",
              "      <td>162</td>\n",
              "      <td>12</td>\n",
              "    </tr>\n",
              "  </tbody>\n",
              "</table>\n",
              "</div>\n",
              "    <div class=\"colab-df-buttons\">\n",
              "\n",
              "  <div class=\"colab-df-container\">\n",
              "    <button class=\"colab-df-convert\" onclick=\"convertToInteractive('df-36b4b6e4-6451-4308-bda9-8a8324cc6ec3')\"\n",
              "            title=\"Convert this dataframe to an interactive table.\"\n",
              "            style=\"display:none;\">\n",
              "\n",
              "  <svg xmlns=\"http://www.w3.org/2000/svg\" height=\"24px\" viewBox=\"0 -960 960 960\">\n",
              "    <path d=\"M120-120v-720h720v720H120Zm60-500h600v-160H180v160Zm220 220h160v-160H400v160Zm0 220h160v-160H400v160ZM180-400h160v-160H180v160Zm440 0h160v-160H620v160ZM180-180h160v-160H180v160Zm440 0h160v-160H620v160Z\"/>\n",
              "  </svg>\n",
              "    </button>\n",
              "\n",
              "  <style>\n",
              "    .colab-df-container {\n",
              "      display:flex;\n",
              "      gap: 12px;\n",
              "    }\n",
              "\n",
              "    .colab-df-convert {\n",
              "      background-color: #E8F0FE;\n",
              "      border: none;\n",
              "      border-radius: 50%;\n",
              "      cursor: pointer;\n",
              "      display: none;\n",
              "      fill: #1967D2;\n",
              "      height: 32px;\n",
              "      padding: 0 0 0 0;\n",
              "      width: 32px;\n",
              "    }\n",
              "\n",
              "    .colab-df-convert:hover {\n",
              "      background-color: #E2EBFA;\n",
              "      box-shadow: 0px 1px 2px rgba(60, 64, 67, 0.3), 0px 1px 3px 1px rgba(60, 64, 67, 0.15);\n",
              "      fill: #174EA6;\n",
              "    }\n",
              "\n",
              "    .colab-df-buttons div {\n",
              "      margin-bottom: 4px;\n",
              "    }\n",
              "\n",
              "    [theme=dark] .colab-df-convert {\n",
              "      background-color: #3B4455;\n",
              "      fill: #D2E3FC;\n",
              "    }\n",
              "\n",
              "    [theme=dark] .colab-df-convert:hover {\n",
              "      background-color: #434B5C;\n",
              "      box-shadow: 0px 1px 3px 1px rgba(0, 0, 0, 0.15);\n",
              "      filter: drop-shadow(0px 1px 2px rgba(0, 0, 0, 0.3));\n",
              "      fill: #FFFFFF;\n",
              "    }\n",
              "  </style>\n",
              "\n",
              "    <script>\n",
              "      const buttonEl =\n",
              "        document.querySelector('#df-36b4b6e4-6451-4308-bda9-8a8324cc6ec3 button.colab-df-convert');\n",
              "      buttonEl.style.display =\n",
              "        google.colab.kernel.accessAllowed ? 'block' : 'none';\n",
              "\n",
              "      async function convertToInteractive(key) {\n",
              "        const element = document.querySelector('#df-36b4b6e4-6451-4308-bda9-8a8324cc6ec3');\n",
              "        const dataTable =\n",
              "          await google.colab.kernel.invokeFunction('convertToInteractive',\n",
              "                                                    [key], {});\n",
              "        if (!dataTable) return;\n",
              "\n",
              "        const docLinkHtml = 'Like what you see? Visit the ' +\n",
              "          '<a target=\"_blank\" href=https://colab.research.google.com/notebooks/data_table.ipynb>data table notebook</a>'\n",
              "          + ' to learn more about interactive tables.';\n",
              "        element.innerHTML = '';\n",
              "        dataTable['output_type'] = 'display_data';\n",
              "        await google.colab.output.renderOutput(dataTable, element);\n",
              "        const docLink = document.createElement('div');\n",
              "        docLink.innerHTML = docLinkHtml;\n",
              "        element.appendChild(docLink);\n",
              "      }\n",
              "    </script>\n",
              "  </div>\n",
              "\n",
              "\n",
              "<div id=\"df-a96bcdfb-44be-4e86-8298-6933b77d91c3\">\n",
              "  <button class=\"colab-df-quickchart\" onclick=\"quickchart('df-a96bcdfb-44be-4e86-8298-6933b77d91c3')\"\n",
              "            title=\"Suggest charts\"\n",
              "            style=\"display:none;\">\n",
              "\n",
              "<svg xmlns=\"http://www.w3.org/2000/svg\" height=\"24px\"viewBox=\"0 0 24 24\"\n",
              "     width=\"24px\">\n",
              "    <g>\n",
              "        <path d=\"M19 3H5c-1.1 0-2 .9-2 2v14c0 1.1.9 2 2 2h14c1.1 0 2-.9 2-2V5c0-1.1-.9-2-2-2zM9 17H7v-7h2v7zm4 0h-2V7h2v10zm4 0h-2v-4h2v4z\"/>\n",
              "    </g>\n",
              "</svg>\n",
              "  </button>\n",
              "\n",
              "<style>\n",
              "  .colab-df-quickchart {\n",
              "      --bg-color: #E8F0FE;\n",
              "      --fill-color: #1967D2;\n",
              "      --hover-bg-color: #E2EBFA;\n",
              "      --hover-fill-color: #174EA6;\n",
              "      --disabled-fill-color: #AAA;\n",
              "      --disabled-bg-color: #DDD;\n",
              "  }\n",
              "\n",
              "  [theme=dark] .colab-df-quickchart {\n",
              "      --bg-color: #3B4455;\n",
              "      --fill-color: #D2E3FC;\n",
              "      --hover-bg-color: #434B5C;\n",
              "      --hover-fill-color: #FFFFFF;\n",
              "      --disabled-bg-color: #3B4455;\n",
              "      --disabled-fill-color: #666;\n",
              "  }\n",
              "\n",
              "  .colab-df-quickchart {\n",
              "    background-color: var(--bg-color);\n",
              "    border: none;\n",
              "    border-radius: 50%;\n",
              "    cursor: pointer;\n",
              "    display: none;\n",
              "    fill: var(--fill-color);\n",
              "    height: 32px;\n",
              "    padding: 0;\n",
              "    width: 32px;\n",
              "  }\n",
              "\n",
              "  .colab-df-quickchart:hover {\n",
              "    background-color: var(--hover-bg-color);\n",
              "    box-shadow: 0 1px 2px rgba(60, 64, 67, 0.3), 0 1px 3px 1px rgba(60, 64, 67, 0.15);\n",
              "    fill: var(--button-hover-fill-color);\n",
              "  }\n",
              "\n",
              "  .colab-df-quickchart-complete:disabled,\n",
              "  .colab-df-quickchart-complete:disabled:hover {\n",
              "    background-color: var(--disabled-bg-color);\n",
              "    fill: var(--disabled-fill-color);\n",
              "    box-shadow: none;\n",
              "  }\n",
              "\n",
              "  .colab-df-spinner {\n",
              "    border: 2px solid var(--fill-color);\n",
              "    border-color: transparent;\n",
              "    border-bottom-color: var(--fill-color);\n",
              "    animation:\n",
              "      spin 1s steps(1) infinite;\n",
              "  }\n",
              "\n",
              "  @keyframes spin {\n",
              "    0% {\n",
              "      border-color: transparent;\n",
              "      border-bottom-color: var(--fill-color);\n",
              "      border-left-color: var(--fill-color);\n",
              "    }\n",
              "    20% {\n",
              "      border-color: transparent;\n",
              "      border-left-color: var(--fill-color);\n",
              "      border-top-color: var(--fill-color);\n",
              "    }\n",
              "    30% {\n",
              "      border-color: transparent;\n",
              "      border-left-color: var(--fill-color);\n",
              "      border-top-color: var(--fill-color);\n",
              "      border-right-color: var(--fill-color);\n",
              "    }\n",
              "    40% {\n",
              "      border-color: transparent;\n",
              "      border-right-color: var(--fill-color);\n",
              "      border-top-color: var(--fill-color);\n",
              "    }\n",
              "    60% {\n",
              "      border-color: transparent;\n",
              "      border-right-color: var(--fill-color);\n",
              "    }\n",
              "    80% {\n",
              "      border-color: transparent;\n",
              "      border-right-color: var(--fill-color);\n",
              "      border-bottom-color: var(--fill-color);\n",
              "    }\n",
              "    90% {\n",
              "      border-color: transparent;\n",
              "      border-bottom-color: var(--fill-color);\n",
              "    }\n",
              "  }\n",
              "</style>\n",
              "\n",
              "  <script>\n",
              "    async function quickchart(key) {\n",
              "      const quickchartButtonEl =\n",
              "        document.querySelector('#' + key + ' button');\n",
              "      quickchartButtonEl.disabled = true;  // To prevent multiple clicks.\n",
              "      quickchartButtonEl.classList.add('colab-df-spinner');\n",
              "      try {\n",
              "        const charts = await google.colab.kernel.invokeFunction(\n",
              "            'suggestCharts', [key], {});\n",
              "      } catch (error) {\n",
              "        console.error('Error during call to suggestCharts:', error);\n",
              "      }\n",
              "      quickchartButtonEl.classList.remove('colab-df-spinner');\n",
              "      quickchartButtonEl.classList.add('colab-df-quickchart-complete');\n",
              "    }\n",
              "    (() => {\n",
              "      let quickchartButtonEl =\n",
              "        document.querySelector('#df-a96bcdfb-44be-4e86-8298-6933b77d91c3 button');\n",
              "      quickchartButtonEl.style.display =\n",
              "        google.colab.kernel.accessAllowed ? 'block' : 'none';\n",
              "    })();\n",
              "  </script>\n",
              "</div>\n",
              "\n",
              "    </div>\n",
              "  </div>\n"
            ],
            "application/vnd.google.colaboratory.intrinsic+json": {
              "type": "dataframe",
              "variable_name": "vaers_data",
              "summary": "{\n  \"name\": \"vaers_data\",\n  \"rows\": 500,\n  \"fields\": [\n    {\n      \"column\": \"vaers_id\",\n      \"properties\": {\n        \"dtype\": \"number\",\n        \"std\": 456435,\n        \"min\": 910991,\n        \"max\": 2768541,\n        \"num_unique_values\": 500,\n        \"samples\": [\n          1566898,\n          2284639,\n          1559976\n        ],\n        \"semantic_type\": \"\",\n        \"description\": \"\"\n      }\n    },\n    {\n      \"column\": \"year\",\n      \"properties\": {\n        \"dtype\": \"number\",\n        \"std\": 0,\n        \"min\": 2020,\n        \"max\": 2024,\n        \"num_unique_values\": 5,\n        \"samples\": [\n          2022,\n          2024,\n          2023\n        ],\n        \"semantic_type\": \"\",\n        \"description\": \"\"\n      }\n    },\n    {\n      \"column\": \"vax_type\",\n      \"properties\": {\n        \"dtype\": \"category\",\n        \"num_unique_values\": 1,\n        \"samples\": [\n          \"COVID19        \"\n        ],\n        \"semantic_type\": \"\",\n        \"description\": \"\"\n      }\n    },\n    {\n      \"column\": \"vax_manu\",\n      \"properties\": {\n        \"dtype\": \"category\",\n        \"num_unique_values\": 1,\n        \"samples\": [\n          \"MODERNA\"\n        ],\n        \"semantic_type\": \"\",\n        \"description\": \"\"\n      }\n    },\n    {\n      \"column\": \"symptom_text\",\n      \"properties\": {\n        \"dtype\": \"string\",\n        \"num_unique_values\": 500,\n        \"samples\": [\n          \"Lump in her armpit (injection side), it's about 2 inches large and hot; Lump in her armpit (injection side), it's about 2 inches large and hot; This spontaneous case was reported by a consumer and describes the occurrence of FEELING HOT (Lump in her armpit (injection side), it's about 2 inches large and hot) and LYMPHADENOPATHY (Lump in her armpit (injection side), it's about 2 inches large and hot) in an 81-year-old female patient who received mRNA-1273 (Moderna COVID-19 Vaccine) (batch no. 039K20A) for COVID-19 vaccination.     The patient's past medical history included Breast cancer in 1988. Concomitant products included ATORVASTATIN CALCIUM (LIPTOR [ATORVASTATIN CALCIUM]), VITAMIN A [RETINOL], ACETYLSALICYLIC ACID (BABY ASPIRIN) and CLONAZEPAM for an unknown indication.    On 01-Mar-2021, the patient received first dose of mRNA-1273 (Moderna COVID-19 Vaccine) (Intramuscular) 1 dosage form. On 11-Mar-2021, the patient experienced FEELING HOT (Lump in her armpit (injection side), it's about 2 inches large and hot) and LYMPHADENOPATHY (Lump in her armpit (injection side), it's about 2 inches large and hot). The patient was treated with PARACETAMOL (TYLENOL) at a dose of UNK, prn. At the time of the report, FEELING HOT (Lump in her armpit (injection side), it's about 2 inches large and hot) and LYMPHADENOPATHY (Lump in her armpit (injection side), it's about 2 inches large and hot) outcome was unknown.        The action taken with mRNA-1273 (Moderna COVID-19 Vaccine) (Intramuscular) was unknown.       Additional concomitant products used included Hydrops, Systemin and Sorect.\"\n        ],\n        \"semantic_type\": \"\",\n        \"description\": \"\"\n      }\n    },\n    {\n      \"column\": \"symptoms\",\n      \"properties\": {\n        \"dtype\": \"object\",\n        \"semantic_type\": \"\",\n        \"description\": \"\"\n      }\n    },\n    {\n      \"column\": \"ordered_symptoms\",\n      \"properties\": {\n        \"dtype\": \"object\",\n        \"semantic_type\": \"\",\n        \"description\": \"\"\n      }\n    },\n    {\n      \"column\": \"report_length\",\n      \"properties\": {\n        \"dtype\": \"number\",\n        \"std\": 110,\n        \"min\": 51,\n        \"max\": 896,\n        \"num_unique_values\": 233,\n        \"samples\": [\n          238\n        ],\n        \"semantic_type\": \"\",\n        \"description\": \"\"\n      }\n    },\n    {\n      \"column\": \"num_symptoms\",\n      \"properties\": {\n        \"dtype\": \"number\",\n        \"std\": 2,\n        \"min\": 2,\n        \"max\": 20,\n        \"num_unique_values\": 17,\n        \"samples\": [\n          2\n        ],\n        \"semantic_type\": \"\",\n        \"description\": \"\"\n      }\n    }\n  ]\n}"
            }
          },
          "metadata": {},
          "execution_count": 5
        }
      ],
      "execution_count": null
    },
    {
      "cell_type": "markdown",
      "source": [
        "## Temporal Sequence Generation Using Claude-3.5-Sonnet:"
      ],
      "metadata": {
        "id": "h-ALkRQAerLo"
      }
    },
    {
      "cell_type": "code",
      "source": [
        "!pip install anthropic"
      ],
      "metadata": {
        "trusted": true,
        "execution": {
          "iopub.status.busy": "2024-11-26T06:04:43.654114Z",
          "iopub.execute_input": "2024-11-26T06:04:43.654567Z",
          "iopub.status.idle": "2024-11-26T06:04:54.536918Z",
          "shell.execute_reply.started": "2024-11-26T06:04:43.654535Z",
          "shell.execute_reply": "2024-11-26T06:04:54.535557Z"
        },
        "id": "AJTlrJlherLo",
        "colab": {
          "base_uri": "https://localhost:8080/"
        },
        "outputId": "3a46e52d-68fc-4863-e6e6-5404ab2e0f92"
      },
      "outputs": [
        {
          "output_type": "stream",
          "name": "stdout",
          "text": [
            "Collecting anthropic\n",
            "  Downloading anthropic-0.40.0-py3-none-any.whl.metadata (23 kB)\n",
            "Requirement already satisfied: anyio<5,>=3.5.0 in /usr/local/lib/python3.10/dist-packages (from anthropic) (3.7.1)\n",
            "Requirement already satisfied: distro<2,>=1.7.0 in /usr/local/lib/python3.10/dist-packages (from anthropic) (1.9.0)\n",
            "Requirement already satisfied: httpx<1,>=0.23.0 in /usr/local/lib/python3.10/dist-packages (from anthropic) (0.28.0)\n",
            "Requirement already satisfied: jiter<1,>=0.4.0 in /usr/local/lib/python3.10/dist-packages (from anthropic) (0.8.0)\n",
            "Requirement already satisfied: pydantic<3,>=1.9.0 in /usr/local/lib/python3.10/dist-packages (from anthropic) (2.10.3)\n",
            "Requirement already satisfied: sniffio in /usr/local/lib/python3.10/dist-packages (from anthropic) (1.3.1)\n",
            "Requirement already satisfied: typing-extensions<5,>=4.7 in /usr/local/lib/python3.10/dist-packages (from anthropic) (4.12.2)\n",
            "Requirement already satisfied: idna>=2.8 in /usr/local/lib/python3.10/dist-packages (from anyio<5,>=3.5.0->anthropic) (3.10)\n",
            "Requirement already satisfied: exceptiongroup in /usr/local/lib/python3.10/dist-packages (from anyio<5,>=3.5.0->anthropic) (1.2.2)\n",
            "Requirement already satisfied: certifi in /usr/local/lib/python3.10/dist-packages (from httpx<1,>=0.23.0->anthropic) (2024.8.30)\n",
            "Requirement already satisfied: httpcore==1.* in /usr/local/lib/python3.10/dist-packages (from httpx<1,>=0.23.0->anthropic) (1.0.7)\n",
            "Requirement already satisfied: h11<0.15,>=0.13 in /usr/local/lib/python3.10/dist-packages (from httpcore==1.*->httpx<1,>=0.23.0->anthropic) (0.14.0)\n",
            "Requirement already satisfied: annotated-types>=0.6.0 in /usr/local/lib/python3.10/dist-packages (from pydantic<3,>=1.9.0->anthropic) (0.7.0)\n",
            "Requirement already satisfied: pydantic-core==2.27.1 in /usr/local/lib/python3.10/dist-packages (from pydantic<3,>=1.9.0->anthropic) (2.27.1)\n",
            "Downloading anthropic-0.40.0-py3-none-any.whl (199 kB)\n",
            "\u001b[2K   \u001b[90m━━━━━━━━━━━━━━━━━━━━━━━━━━━━━━━━━━━━━━━━\u001b[0m \u001b[32m199.5/199.5 kB\u001b[0m \u001b[31m3.9 MB/s\u001b[0m eta \u001b[36m0:00:00\u001b[0m\n",
            "\u001b[?25hInstalling collected packages: anthropic\n",
            "Successfully installed anthropic-0.40.0\n"
          ]
        }
      ],
      "execution_count": null
    },
    {
      "cell_type": "code",
      "source": [
        "from google.colab import userdata\n",
        "api_key = userdata.get('anthropic_api_key')"
      ],
      "metadata": {
        "id": "_NhgbuxlhJcQ"
      },
      "execution_count": null,
      "outputs": []
    },
    {
      "cell_type": "code",
      "source": [
        "import anthropic\n",
        "\n",
        "model_name = \"claude-3-5-sonnet-20241022\"\n",
        "client = anthropic.Anthropic(api_key=api_key)"
      ],
      "metadata": {
        "trusted": true,
        "execution": {
          "iopub.status.busy": "2024-11-26T07:24:47.600323Z",
          "iopub.execute_input": "2024-11-26T07:24:47.600709Z",
          "iopub.status.idle": "2024-11-26T07:24:47.618998Z",
          "shell.execute_reply.started": "2024-11-26T07:24:47.600674Z",
          "shell.execute_reply": "2024-11-26T07:24:47.617931Z"
        },
        "id": "bUPMgQ9yerLp"
      },
      "outputs": [],
      "execution_count": null
    },
    {
      "cell_type": "code",
      "source": [
        "def create_prompt(row):\n",
        "    instruction = \"Order the symptoms in chronological order based on the timeline implied in the text. Think step by step to determine the timeline for each symptom. Provide the ordered symptoms list in this format, Ordered Symptoms: [Rash, Diarrhoea]\"\n",
        "    prompt = f\"{instruction}\\n\\nText: {row['symptom_text']}\\n\\nSymptoms: {', '.join(row['symptoms'])}\\n\\nOrdered Symptoms:\"\n",
        "    return prompt\n",
        "\n",
        "vaers_data['prompt'] = vaers_data.apply(create_prompt, axis=1)"
      ],
      "metadata": {
        "trusted": true,
        "execution": {
          "iopub.status.busy": "2024-11-26T06:06:40.129197Z",
          "iopub.execute_input": "2024-11-26T06:06:40.129697Z",
          "iopub.status.idle": "2024-11-26T06:06:40.150453Z",
          "shell.execute_reply.started": "2024-11-26T06:06:40.129649Z",
          "shell.execute_reply": "2024-11-26T06:06:40.149174Z"
        },
        "id": "unuHjLnKerLp"
      },
      "outputs": [],
      "execution_count": null
    },
    {
      "cell_type": "code",
      "source": [
        "def get_ordered_symptoms(prompt_list):\n",
        "\n",
        "    api_response = []\n",
        "    ordered_symptoms = []\n",
        "    pattern = r\"\\[.*?\\]\"\n",
        "\n",
        "    for prompt in prompt_list:\n",
        "        try:\n",
        "            symptom_list = []\n",
        "            message = client.messages.create(\n",
        "                model=model_name,\n",
        "                max_tokens=500,\n",
        "                messages=[{\"role\": \"user\", \"content\": prompt}]\n",
        "            )\n",
        "            api_result = message.content[0].text\n",
        "        except Exception as e:\n",
        "            api_result = ''\n",
        "            print(e)\n",
        "\n",
        "        # Regular expression to extract text inside square brackets\n",
        "        matches = re.findall(pattern, api_result)\n",
        "        if matches:\n",
        "            match = matches[-1]\n",
        "            symptom_list = match.strip('[]').split(', ')\n",
        "            symptom_list = [item.strip(\"'\\\"\") for item in symptom_list]  # Clean up quotes\n",
        "\n",
        "        else:\n",
        "            print(\"No match found.\")\n",
        "\n",
        "        api_response.append(api_result)\n",
        "        ordered_symptoms.append(symptom_list)\n",
        "\n",
        "    return api_response, ordered_symptoms"
      ],
      "metadata": {
        "trusted": true,
        "execution": {
          "iopub.status.busy": "2024-11-26T06:52:13.706409Z",
          "iopub.execute_input": "2024-11-26T06:52:13.706884Z",
          "iopub.status.idle": "2024-11-26T06:52:13.715286Z",
          "shell.execute_reply.started": "2024-11-26T06:52:13.706845Z",
          "shell.execute_reply": "2024-11-26T06:52:13.714075Z"
        },
        "id": "JHYPSGTderLp"
      },
      "outputs": [],
      "execution_count": null
    },
    {
      "cell_type": "code",
      "source": [
        "claude_res, claude_symptoms = get_ordered_symptoms(vaers_data['prompt'].to_list())"
      ],
      "metadata": {
        "trusted": true,
        "execution": {
          "iopub.status.busy": "2024-11-26T06:52:21.655635Z",
          "iopub.execute_input": "2024-11-26T06:52:21.656113Z",
          "iopub.status.idle": "2024-11-26T07:21:59.736829Z",
          "shell.execute_reply.started": "2024-11-26T06:52:21.656046Z",
          "shell.execute_reply": "2024-11-26T07:21:59.735824Z"
        },
        "id": "4fnxj4XXerLp"
      },
      "outputs": [],
      "execution_count": null
    },
    {
      "cell_type": "code",
      "source": [
        "claude_results = pd.DataFrame({\n",
        "    'symptom_text': vaers_data['symptom_text'].to_list(),\n",
        "    'prompt': vaers_data['prompt'].to_list(),\n",
        "    'true_sequence': vaers_data['prompt'].to_list(),\n",
        "    'predicted_sequence': claude_symptoms\n",
        "})"
      ],
      "metadata": {
        "id": "juhKbNFsjota"
      },
      "execution_count": null,
      "outputs": []
    },
    {
      "cell_type": "code",
      "source": [
        "claude_results.to_csv(os.path.join(data_dir, f'{model_name}-results.csv'), index=False)"
      ],
      "metadata": {
        "id": "auw6hYT6ke25"
      },
      "execution_count": null,
      "outputs": []
    }
  ]
}